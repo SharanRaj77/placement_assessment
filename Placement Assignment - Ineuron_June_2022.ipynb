{
 "cells": [
  {
   "cell_type": "markdown",
   "id": "2ed7affa",
   "metadata": {},
   "source": [
    "# 1. Create a function in python to read the text file and replace specific content of the file."
   ]
  },
  {
   "cell_type": "code",
   "execution_count": 1,
   "id": "1607d132",
   "metadata": {},
   "outputs": [],
   "source": [
    "def replace_func(filename):\n",
    "    try:\n",
    "        with open(filename, 'r') as file:\n",
    "            read = file.read()\n",
    "            read = read.replace('placement', 'screening')\n",
    "    finally:\n",
    "        with open(filename, 'w') as file:\n",
    "            file.write(read)   "
   ]
  },
  {
   "cell_type": "code",
   "execution_count": 2,
   "id": "b0b774fa",
   "metadata": {},
   "outputs": [],
   "source": [
    "replace_func('example.txt')"
   ]
  },
  {
   "cell_type": "markdown",
   "id": "71eee7de",
   "metadata": {},
   "source": [
    "# 2. Demonstrate use of abstract class, multiple inheritance and decorator in python using examples."
   ]
  },
  {
   "cell_type": "markdown",
   "id": "1866bc7e",
   "metadata": {},
   "source": [
    "# Abstract Classes"
   ]
  },
  {
   "cell_type": "code",
   "execution_count": 3,
   "id": "db2a5641",
   "metadata": {},
   "outputs": [],
   "source": [
    "from abc import ABC, abstractmethod\n",
    "\n",
    "class automobile(ABC): # Abstract Class containing an abstract method\n",
    "    \n",
    "    def __init__(self, no_of_wheels, no_of_passengers, company, fuel_type):\n",
    "        self.no_of_wheels = no_of_wheels\n",
    "        self.no_of_passengers = no_of_passengers\n",
    "        self.company = company\n",
    "        self.fuel_type = fuel_type\n",
    "    \n",
    "    def company_name(self): # Parent method\n",
    "        return self.company\n",
    "     \n",
    "    @abstractmethod # Abstract Method\n",
    "    def configuration(self): # Not implementing the method\n",
    "        pass\n",
    "    \n",
    "class motorbike(automobile): # Child class\n",
    "    \n",
    "    def configuration(self): # Implementing the method\n",
    "        return {'Type': 'Motobike',\n",
    "                'Fuel Used': self.fuel_type,\n",
    "               'Seating Capacity': self.no_of_passengers,\n",
    "               'Suitable for': 'City use under high and low Traffic'}\n",
    "    \n",
    "class hatchback(automobile): # Child class\n",
    "    \n",
    "    def configuration(self): # Implementing the method\n",
    "        return {'Type': 'Hatchback',\n",
    "                'Fuel Used': self.fuel_type,\n",
    "               'Seating Capacity': self.no_of_passengers,\n",
    "               'Suitable for': 'City use under low Traffic'}\n",
    "\n",
    "class suv(automobile): # Child class\n",
    "    \n",
    "    def configuration(self): # Implementing the method\n",
    "        return {'Type': 'Sports Utility Vehicle',\n",
    "                'Fuel Used': self.fuel_type,\n",
    "               'Seating Capacity': self.no_of_passengers,\n",
    "               'Suitable for': 'Highways and Off-roads'}    "
   ]
  },
  {
   "cell_type": "code",
   "execution_count": 4,
   "id": "20357298",
   "metadata": {},
   "outputs": [
    {
     "name": "stdout",
     "output_type": "stream",
     "text": [
      "Honda\n",
      "{'Type': 'Motobike', 'Fuel Used': 'Petrol', 'Seating Capacity': 2, 'Suitable for': 'City use under high and low Traffic'}\n"
     ]
    }
   ],
   "source": [
    "auto1 = motorbike(2, 2,'Honda', 'Petrol')\n",
    "print(auto1.company_name())\n",
    "print(auto1.configuration())"
   ]
  },
  {
   "cell_type": "code",
   "execution_count": 5,
   "id": "3c46f5a2",
   "metadata": {},
   "outputs": [
    {
     "name": "stdout",
     "output_type": "stream",
     "text": [
      "Ford\n",
      "{'Type': 'Sports Utility Vehicle', 'Fuel Used': 'Diesel', 'Seating Capacity': 8, 'Suitable for': 'Highways and Off-roads'}\n"
     ]
    }
   ],
   "source": [
    "auto2 = suv(4, 8,'Ford', 'Diesel')\n",
    "print(auto2.company_name())\n",
    "print(auto2.configuration())"
   ]
  },
  {
   "cell_type": "markdown",
   "id": "b614fb55",
   "metadata": {},
   "source": [
    "# Multiple Inheritance"
   ]
  },
  {
   "cell_type": "code",
   "execution_count": 6,
   "id": "f739a79f",
   "metadata": {},
   "outputs": [],
   "source": [
    "class athlete: # Parent class 1\n",
    "    \n",
    "    def __init__(self, sport):\n",
    "        self.sport = sport\n",
    "    \n",
    "    def sport_name(self): # Parent method 1\n",
    "        return \"Sport: {}\".format(self.sport)\n",
    "\n",
    "class student: # Parent class 2\n",
    "    \n",
    "    def __init__(self, grade):\n",
    "        self.grade = grade\n",
    "    \n",
    "    def grade_name(self): # Parent method 2\n",
    "        return \"Grade: {}\".format(self.grade)\n",
    "    \n",
    "class person(athlete, student): # Child class\n",
    "    \n",
    "    def __init__(self, name, age, sport, grade):\n",
    "        self.name = name # Child attribute 1\n",
    "        self.age = age # Child attribute 2\n",
    "        athlete.__init__(self, sport) # Parent 1 attribute\n",
    "        student.__init__(self, grade) # Parent 2 attribute        \n",
    "        \n",
    "    def details(self): # Child method\n",
    "        print(\"Name: {}\".format(self.name), \"\\n\", \"Age: {}\".format(self.age))\n",
    "        "
   ]
  },
  {
   "cell_type": "code",
   "execution_count": 7,
   "id": "f6767643",
   "metadata": {},
   "outputs": [],
   "source": [
    "per1 = person('John', 20, 'Football', '10th Grade')"
   ]
  },
  {
   "cell_type": "code",
   "execution_count": 8,
   "id": "39e9affd",
   "metadata": {},
   "outputs": [
    {
     "name": "stdout",
     "output_type": "stream",
     "text": [
      "Name: John \n",
      " Age: 20\n"
     ]
    }
   ],
   "source": [
    "per1.details() # Calling child method"
   ]
  },
  {
   "cell_type": "code",
   "execution_count": 9,
   "id": "22f7ae6e",
   "metadata": {},
   "outputs": [
    {
     "data": {
      "text/plain": [
       "'Sport: Football'"
      ]
     },
     "execution_count": 9,
     "metadata": {},
     "output_type": "execute_result"
    }
   ],
   "source": [
    "per1.sport_name() # Calling inherited parent method 1"
   ]
  },
  {
   "cell_type": "code",
   "execution_count": 10,
   "id": "45a62318",
   "metadata": {},
   "outputs": [
    {
     "data": {
      "text/plain": [
       "'Grade: 10th Grade'"
      ]
     },
     "execution_count": 10,
     "metadata": {},
     "output_type": "execute_result"
    }
   ],
   "source": [
    "per1.grade_name() # Calling inherited parent method 2"
   ]
  },
  {
   "cell_type": "markdown",
   "id": "76194fab",
   "metadata": {},
   "source": [
    "# Decorators"
   ]
  },
  {
   "cell_type": "code",
   "execution_count": 11,
   "id": "a618f9a0",
   "metadata": {},
   "outputs": [],
   "source": [
    "# Original function\n",
    "\n",
    "def Rectangle(length, breadth):\n",
    "    \n",
    "    perimeter = 2*(length + breadth)\n",
    "    print(\"The perimeter of the rectangle is: {}\".format(perimeter))"
   ]
  },
  {
   "cell_type": "code",
   "execution_count": 12,
   "id": "cfb36e03",
   "metadata": {},
   "outputs": [
    {
     "name": "stdout",
     "output_type": "stream",
     "text": [
      "The perimeter of the rectangle is: 60\n"
     ]
    }
   ],
   "source": [
    "# The function Rectangle is returned without any added functionality\n",
    "\n",
    "Rectangle(10,20)"
   ]
  },
  {
   "cell_type": "code",
   "execution_count": 13,
   "id": "a76c7d9d",
   "metadata": {},
   "outputs": [],
   "source": [
    "# Decorator function\n",
    "\n",
    "def decorator_func(orig_func):\n",
    "    \n",
    "    def wrapper_func(length, breadth):\n",
    "        \n",
    "        area = length*breadth\n",
    "        print(\"The area of the rectangle is: {}\".format(area)) # Added functionality\n",
    "        return orig_func(length, breadth)\n",
    "    return wrapper_func"
   ]
  },
  {
   "cell_type": "code",
   "execution_count": 14,
   "id": "83d8dd6e",
   "metadata": {},
   "outputs": [],
   "source": [
    "@decorator_func\n",
    "def Rectangle(length, breadth):\n",
    "    \n",
    "    perimeter = 2*(length + breadth)\n",
    "    print(\"The perimeter of the rectangle is: {}\".format(perimeter))"
   ]
  },
  {
   "cell_type": "code",
   "execution_count": 15,
   "id": "6e689f73",
   "metadata": {},
   "outputs": [
    {
     "name": "stdout",
     "output_type": "stream",
     "text": [
      "The area of the rectangle is: 200\n",
      "The perimeter of the rectangle is: 60\n"
     ]
    }
   ],
   "source": [
    "# The decorated function Rectangle is now returned with the added functionality\n",
    "\n",
    "Rectangle(10,20)"
   ]
  },
  {
   "cell_type": "code",
   "execution_count": null,
   "id": "aef0fc74",
   "metadata": {},
   "outputs": [],
   "source": []
  }
 ],
 "metadata": {
  "kernelspec": {
   "display_name": "Python 3 (ipykernel)",
   "language": "python",
   "name": "python3"
  },
  "language_info": {
   "codemirror_mode": {
    "name": "ipython",
    "version": 3
   },
   "file_extension": ".py",
   "mimetype": "text/x-python",
   "name": "python",
   "nbconvert_exporter": "python",
   "pygments_lexer": "ipython3",
   "version": "3.9.7"
  }
 },
 "nbformat": 4,
 "nbformat_minor": 5
}
